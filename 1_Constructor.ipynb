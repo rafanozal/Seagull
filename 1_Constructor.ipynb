{
 "cells": [
  {
   "cell_type": "markdown",
   "metadata": {},
   "source": [
    "# Basic Examples\n",
    "\n",
    "## Import the libraries"
   ]
  },
  {
   "cell_type": "code",
   "execution_count": 3,
   "metadata": {},
   "outputs": [],
   "source": [
    "# General libraries\n",
    "import pandas as pd\n",
    "\n",
    "# Seagull libraries\n",
    "from src.Seagull.Seagull import Seagull"
   ]
  },
  {
   "cell_type": "markdown",
   "metadata": {},
   "source": [
    "## 1.- Creating a Seagull object"
   ]
  },
  {
   "cell_type": "code",
   "execution_count": 4,
   "metadata": {},
   "outputs": [
    {
     "name": "stdout",
     "output_type": "stream",
     "text": [
      "     0    1    2    3\n",
      "0  0.0  0.0  0.0  0.0\n",
      "1  0.0  0.0  0.0  0.0\n",
      "2  0.0  0.0  0.0  0.0\n",
      "\n",
      "---------------\n",
      " rows x columns: 3 x 4\n",
      "---------------\n",
      " Datatypes:    \n",
      "     0 | 0 : Float64\n",
      "     1 | 1 : Float64\n",
      "     2 | 2 : Float64\n",
      "     3 | 3 : Float64\n",
      "---------------\n",
      "    Preview    \n",
      "---------------\n",
      "     0    1    2    3\n",
      "0  0.0  0.0  0.0  0.0\n",
      "1  0.0  0.0  0.0  0.0\n",
      "2  0.0  0.0  0.0  0.0\n",
      "---------------\n",
      "\n"
     ]
    }
   ],
   "source": [
    "# Create the object\n",
    "my_dF = Seagull()\n",
    "\n",
    "# Print only the data (all of it by default)\n",
    "print(my_dF)\n",
    "print()\n",
    "\n",
    "# Print the overview of the data which includes dimensions,\n",
    "# datatypes and a preview of the data (5 rows by default)\n",
    "print(my_dF.str_overview())"
   ]
  },
  {
   "cell_type": "markdown",
   "metadata": {},
   "source": [
    "## 2.- With given dimensions"
   ]
  },
  {
   "cell_type": "code",
   "execution_count": 5,
   "metadata": {},
   "outputs": [
    {
     "name": "stdout",
     "output_type": "stream",
     "text": [
      "     0    1    2    3\n",
      "0  0.0  0.0  0.0  0.0\n",
      "1  0.0  0.0  0.0  0.0\n",
      "2  0.0  0.0  0.0  0.0\n",
      "3  0.0  0.0  0.0  0.0\n",
      "4  0.0  0.0  0.0  0.0\n"
     ]
    }
   ],
   "source": [
    "my_dF = Seagull(5,4)\n",
    "print(my_dF)"
   ]
  },
  {
   "cell_type": "markdown",
   "metadata": {},
   "source": [
    "## 3.- With given dimensions and types"
   ]
  },
  {
   "cell_type": "code",
   "execution_count": 6,
   "metadata": {},
   "outputs": [
    {
     "name": "stdout",
     "output_type": "stream",
     "text": [
      "---------------\n",
      " rows x columns: 5 x 4\n",
      "---------------\n",
      " Datatypes:    \n",
      "     0 | 0 : Int64\n",
      "     1 | 1 : Float64\n",
      "     2 | 2 : object\n",
      "     3 | 3 : datetime64[ns]\n",
      "---------------\n",
      "    Preview    \n",
      "---------------\n",
      "   0    1  2   3\n",
      "0  0  0.0  0 NaT\n",
      "1  0  0.0  0 NaT\n",
      "2  0  0.0  0 NaT\n",
      "3  0  0.0  0 NaT\n",
      "4  0  0.0  0 NaT\n",
      "---------------\n",
      "\n"
     ]
    }
   ],
   "source": [
    "my_dF = Seagull(5,4, [\"int\",\"float\",\"str\", \"date\"])\n",
    "print(my_dF.str_overview())"
   ]
  },
  {
   "cell_type": "markdown",
   "metadata": {},
   "source": [
    "## 4.- With types only and no dimensions"
   ]
  },
  {
   "cell_type": "code",
   "execution_count": 7,
   "metadata": {},
   "outputs": [
    {
     "name": "stdout",
     "output_type": "stream",
     "text": [
      "   0    1  2   3  4    5\n",
      "0  0  0.0  0 NaT  0  0.0\n",
      "1  0  0.0  0 NaT  0  0.0\n",
      "2  0  0.0  0 NaT  0  0.0\n",
      "3  0  0.0  0 NaT  0  0.0\n",
      "4  0  0.0  0 NaT  0  0.0\n",
      "5  0  0.0  0 NaT  0  0.0\n",
      "6  0  0.0  0 NaT  0  0.0\n",
      "7  0  0.0  0 NaT  0  0.0\n",
      "8  0  0.0  0 NaT  0  0.0\n",
      "9  0  0.0  0 NaT  0  0.0\n"
     ]
    }
   ],
   "source": [
    "my_dF = Seagull(10, dtypes = [\"int\",\"float\",\"str\", \"date\", \"int\", \"float\"])\n",
    "print(my_dF)"
   ]
  },
  {
   "cell_type": "markdown",
   "metadata": {},
   "source": [
    "## 5.- With wrong types and less types than dimensions"
   ]
  },
  {
   "cell_type": "code",
   "execution_count": 8,
   "metadata": {},
   "outputs": [
    {
     "name": "stdout",
     "output_type": "stream",
     "text": [
      "WARNING!: Fewer dtpyes than columns!\n",
      "\n",
      "          I'm using the last one to fill the rest.\n",
      "\n",
      "WARNING!: Uknown serie type (WHAT?), using float instead\n",
      "\n",
      "     0  1   2   3\n",
      "0  0.0  0 NaT NaT\n",
      "1  0.0  0 NaT NaT\n",
      "2  0.0  0 NaT NaT\n",
      "3  0.0  0 NaT NaT\n",
      "4  0.0  0 NaT NaT\n"
     ]
    }
   ],
   "source": [
    "my_dF = Seagull(5,4, [\"WHAT?\", \"str\", \"date\"])\n",
    "print(my_dF)"
   ]
  },
  {
   "cell_type": "markdown",
   "metadata": {},
   "source": [
    "## 6.- With more types than dimensions"
   ]
  },
  {
   "cell_type": "code",
   "execution_count": 9,
   "metadata": {},
   "outputs": [
    {
     "name": "stdout",
     "output_type": "stream",
     "text": [
      "WARNING: More dtpyes than columns!\n",
      "\n",
      "         I'm ignoring the extra ones.\n",
      "\n",
      "   0    1  2   3\n",
      "0  0  0.0  0 NaT\n",
      "1  0  0.0  0 NaT\n",
      "2  0  0.0  0 NaT\n",
      "3  0  0.0  0 NaT\n",
      "4  0  0.0  0 NaT\n"
     ]
    }
   ],
   "source": [
    "my_dF = Seagull(5,4, [\"int\",\"float\",\"str\", \"date\", \"date\"])\n",
    "print(my_dF)"
   ]
  },
  {
   "cell_type": "markdown",
   "metadata": {},
   "source": [
    "## 7.- Creating from pandas dataframe"
   ]
  },
  {
   "cell_type": "code",
   "execution_count": 10,
   "metadata": {},
   "outputs": [
    {
     "name": "stdout",
     "output_type": "stream",
     "text": [
      "   ID  Weight   Birthday     Name Nationality\n",
      "0   1    60.5 1990-01-01    Alice    American\n",
      "1   2    70.2 1992-05-15      Bob     British\n",
      "2   3    55.9 1985-07-30  Charlie    Canadian\n",
      "3   4    85.3 1988-11-25    David       Dutch\n",
      "4   5    68.7 1993-03-05      Eva    Estonian\n"
     ]
    }
   ],
   "source": [
    "# Defining the data for each column\n",
    "data = {\n",
    "    'ID': [1, 2, 3, 4, 5],                                                # Integer data\n",
    "    'Weight': [60.5, 70.2, 55.9, 85.3, 68.7],                             # Float data\n",
    "    'Birthday': pd.to_datetime(['1990-01-01', '1992-05-15', '1985-07-30',\n",
    "                                '1988-11-25', '1993-03-05']),             # Date data\n",
    "    'Name': ['Alice', 'Bob', 'Charlie', 'David', 'Eva'],                  # String data\n",
    "    'Nationality': pd.Categorical(['American', 'British', 'Canadian',\n",
    "                                    'Dutch', 'Estonian'])                 # Categorical data\n",
    "}\n",
    "\n",
    "# Create a Panda DataFrame\n",
    "my_panda_df   = pd.DataFrame(data)\n",
    "\n",
    "# Convert to Seagull object\n",
    "my_seagull_dF = Seagull.from_pandasDF(my_panda_df)\n",
    "\n",
    "# Show the data\n",
    "print(my_seagull_dF)"
   ]
  },
  {
   "cell_type": "markdown",
   "metadata": {},
   "source": [
    "## 8.- Creating from pandas series\n",
    "\n",
    "Is important to notice that panda series are not dataframes. This convert the series automatically into a dataframe with proper data structure which you can use later to do a plot, analysis, or whatever."
   ]
  },
  {
   "cell_type": "code",
   "execution_count": 11,
   "metadata": {},
   "outputs": [
    {
     "name": "stdout",
     "output_type": "stream",
     "text": [
      "   ID\n",
      "0   1\n",
      "1   2\n",
      "2   3\n",
      "3   4\n",
      "4   5\n"
     ]
    }
   ],
   "source": [
    "my_panda_series = my_panda_df['ID']\n",
    "\n",
    "my_seagull_dF   = Seagull.from_pandasSeries(my_panda_series)\n",
    "print(my_seagull_dF)"
   ]
  },
  {
   "cell_type": "markdown",
   "metadata": {},
   "source": [
    "## 9.- Creating from CSV file"
   ]
  },
  {
   "cell_type": "code",
   "execution_count": 12,
   "metadata": {},
   "outputs": [
    {
     "name": "stdout",
     "output_type": "stream",
     "text": [
      "---------------\n",
      " rows x columns: 150 x 5\n",
      "---------------\n",
      " Datatypes:    \n",
      "     0 | sepal length (cm) : float64\n",
      "     1 | sepal width (cm)  : float64\n",
      "     2 | petal length (cm) : float64\n",
      "     3 | petal width (cm)  : float64\n",
      "     4 | target            : object\n",
      "---------------\n",
      "    Preview    \n",
      "---------------\n",
      "   sepal length (cm)  sepal width (cm)  petal length (cm)  petal width (cm)  \\\n",
      "0                5.1               3.5                1.4               0.2   \n",
      "1                4.9               3.0                1.4               0.2   \n",
      "2                4.7               3.2                1.3               0.2   \n",
      "3                4.6               3.1                1.5               0.2   \n",
      "4                5.0               3.6                1.4               0.2   \n",
      "\n",
      "        target  \n",
      "0  Iris-setosa  \n",
      "1  Iris-setosa  \n",
      "2  Iris-setosa  \n",
      "3  Iris-setosa  \n",
      "4  Iris-setosa  \n",
      "---------------\n",
      "\n"
     ]
    }
   ],
   "source": [
    "my_dF = Seagull()\n",
    "my_dF.loadFromCSV(csv_path = \"datasets/iris_dataset.csv\")\n",
    "print(my_dF.str_overview())"
   ]
  },
  {
   "cell_type": "code",
   "execution_count": 13,
   "metadata": {},
   "outputs": [
    {
     "name": "stdout",
     "output_type": "stream",
     "text": [
      "---------------------------------------------------------------\n",
      " 9.- Transposing\n",
      "---------------------------------------------------------------\n",
      "\n"
     ]
    }
   ],
   "source": [
    "\n",
    "\n",
    "\n",
    "\n",
    "\n",
    "\n",
    "\n",
    "# This has nothing to do with constructors\n",
    "# Move to another file\n",
    "print(\"---------------------------------------------------------------\")\n",
    "print(\" 9.- Transposing\")\n",
    "print(\"---------------------------------------------------------------\")\n",
    "print()    \n",
    "\n",
    "#my_dF = Seagull(5,4)\n",
    "#my_dF.randomize()\n",
    "#my_dF.round()\n",
    "#print(my_dF)\n",
    "#my_dF.transpose()\n",
    "#print(my_dF)\n"
   ]
  }
 ],
 "metadata": {
  "kernelspec": {
   "display_name": ".venv",
   "language": "python",
   "name": "python3"
  },
  "language_info": {
   "codemirror_mode": {
    "name": "ipython",
    "version": 3
   },
   "file_extension": ".py",
   "mimetype": "text/x-python",
   "name": "python",
   "nbconvert_exporter": "python",
   "pygments_lexer": "ipython3",
   "version": "3.10.12"
  }
 },
 "nbformat": 4,
 "nbformat_minor": 2
}
